{
 "cells": [
  {
   "cell_type": "markdown",
   "metadata": {},
   "source": [
    "# Annotation Example\n",
    "\n",
    "This example shows how to annotate a trajectory (and save the annotations) using the `annotated_trajectories` package, which supplements OpenPathSampling.\n",
    "\n",
    "First you'll need to import the two packages (after installing them, of course)."
   ]
  },
  {
   "cell_type": "code",
   "execution_count": 1,
   "metadata": {
    "collapsed": false
   },
   "outputs": [],
   "source": [
    "import openpathsampling as paths\n",
    "from annotated_trajectories import AnnotatedTrajectory, Annotation"
   ]
  },
  {
   "cell_type": "markdown",
   "metadata": {},
   "source": [
    "Now I'm going to create some fake data:"
   ]
  },
  {
   "cell_type": "code",
   "execution_count": 2,
   "metadata": {
    "collapsed": false
   },
   "outputs": [],
   "source": [
    "from openpathsampling.tests.test_helpers import make_1d_traj\n",
    "traj = make_1d_traj([-1, 1, 4, 3, 6, 11, 22, 33, 23, 101, 205])"
   ]
  },
  {
   "cell_type": "markdown",
   "metadata": {},
   "source": [
    "Next I'll open the file. You'll only do this once, and then add all of your annotations for each trajectory into the open file."
   ]
  },
  {
   "cell_type": "code",
   "execution_count": 3,
   "metadata": {
    "collapsed": false
   },
   "outputs": [],
   "source": [
    "storage = paths.Storage(\"output.nc\", \"w\")"
   ]
  },
  {
   "cell_type": "markdown",
   "metadata": {},
   "source": [
    "Now we get to the core. For each trajectory, you can choose state names, and you create a list of annotations for those states. Each annotation includes the state name, the first frame in the state, and the final frame in the state (first and final, named `begin` and `end`, are included in the state). Remember that, in Python, the first frame is 0.\n",
    "\n",
    "Once you've made your annotations, you assign them to your trajectory by putting them both into an `AnnotatedTrajectory` object."
   ]
  },
  {
   "cell_type": "code",
   "execution_count": 4,
   "metadata": {
    "collapsed": true
   },
   "outputs": [],
   "source": [
    "annotations = [\n",
    "    Annotation(state=\"1-digit\", begin=1, end=4),\n",
    "    Annotation(state=\"2-digit\", begin=6, end=8),\n",
    "    Annotation(state=\"3-digit\", begin=10, end=10)\n",
    "]\n",
    "a_traj = AnnotatedTrajectory(trajectory=traj, annotations=annotations)"
   ]
  },
  {
   "cell_type": "markdown",
   "metadata": {},
   "source": [
    "Note that I worry more about incorrectly identifying something as in the state when it actually is not, than missing any frame that could be in the state. There's always some room for optimization here, but you should err on the side of ensuring that your labels actually identify that state. Allow false negatives; don't allow false positives."
   ]
  },
  {
   "cell_type": "markdown",
   "metadata": {
    "collapsed": false
   },
   "source": [
    "Next, you save the trajectory to the file using the `tag` attribute of the `storage`. This will save both the trajectory and all its annotations to the file.\n",
    "\n",
    "In the future, we hope to avoid use of the `tag` store. However, for now I recommend using something like the file name of the trajectory as the string for the tag. It must be unique."
   ]
  },
  {
   "cell_type": "code",
   "execution_count": 5,
   "metadata": {
    "collapsed": false
   },
   "outputs": [],
   "source": [
    "storage.tag['my_file_name'] = a_traj"
   ]
  },
  {
   "cell_type": "markdown",
   "metadata": {},
   "source": [
    "Repeat the steps in the last two cells for each trajectory. When you're done, you can run:"
   ]
  },
  {
   "cell_type": "code",
   "execution_count": 6,
   "metadata": {
    "collapsed": true
   },
   "outputs": [],
   "source": [
    "storage.sync()\n",
    "storage.close()"
   ]
  }
 ],
 "metadata": {
  "kernelspec": {
   "display_name": "Python 2",
   "language": "python",
   "name": "python2"
  },
  "language_info": {
   "codemirror_mode": {
    "name": "ipython",
    "version": 2
   },
   "file_extension": ".py",
   "mimetype": "text/x-python",
   "name": "python",
   "nbconvert_exporter": "python",
   "pygments_lexer": "ipython2",
   "version": "2.7.12"
  }
 },
 "nbformat": 4,
 "nbformat_minor": 1
}
