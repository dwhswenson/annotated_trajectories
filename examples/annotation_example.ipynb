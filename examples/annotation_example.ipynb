{
 "cells": [
  {
   "cell_type": "markdown",
   "metadata": {},
   "source": [
    "# Annotated Trajectory Example\n",
    "\n",
    "This example shows how to annotate a trajectory (and save the annotations) using the `annotated_trajectories` package, which supplements OpenPathSampling.\n",
    "\n",
    "First you'll need to import the two packages (after installing them, of course)."
   ]
  },
  {
   "cell_type": "code",
   "execution_count": 1,
   "metadata": {
    "collapsed": false
   },
   "outputs": [],
   "source": [
    "import openpathsampling as paths\n",
    "from annotated_trajectories import AnnotatedTrajectory, Annotation, plot_annotated"
   ]
  },
  {
   "cell_type": "markdown",
   "metadata": {},
   "source": [
    "Now I'm going to create some fake data:"
   ]
  },
  {
   "cell_type": "code",
   "execution_count": 2,
   "metadata": {
    "collapsed": false
   },
   "outputs": [],
   "source": [
    "from openpathsampling.tests.test_helpers import make_1d_traj\n",
    "traj = make_1d_traj([-1, 1, 4, 3, 6, 11, 22, 33, 23, 101, 205, 35, 45])"
   ]
  },
  {
   "cell_type": "code",
   "execution_count": 3,
   "metadata": {
    "collapsed": true
   },
   "outputs": [],
   "source": [
    "# to get a real trajectory:\n",
    "# from openpathsampling.engines.openmm.tools import ops_load_trajectory\n",
    "# traj = ops_load_trajectory(\"name_of_file.xtc\", top=\"topology.pdb\")  # can also be a .gro"
   ]
  },
  {
   "cell_type": "markdown",
   "metadata": {},
   "source": [
    "Next I'll open the file. You'll only do this once, and then add all of your annotations for each trajectory into the open file."
   ]
  },
  {
   "cell_type": "code",
   "execution_count": 4,
   "metadata": {
    "collapsed": false
   },
   "outputs": [],
   "source": [
    "storage = paths.Storage(\"output.nc\", \"w\")"
   ]
  },
  {
   "cell_type": "markdown",
   "metadata": {},
   "source": [
    "## Annotating trajectories"
   ]
  },
  {
   "cell_type": "markdown",
   "metadata": {},
   "source": [
    "Now we get to the core. For each trajectory, you can choose state names, and you create a list of annotations for those states. Each annotation includes the state name, the first frame in the state, and the final frame in the state (first and final, named `begin` and `end`, are included in the state). Remember that, in Python, the first frame is 0.\n",
    "\n",
    "Once you've made your annotations, you assign them to your trajectory by putting them both into an `AnnotatedTrajectory` object."
   ]
  },
  {
   "cell_type": "code",
   "execution_count": 5,
   "metadata": {
    "collapsed": true
   },
   "outputs": [],
   "source": [
    "annotations = [\n",
    "    Annotation(state=\"1-digit\", begin=1, end=4),\n",
    "    Annotation(state=\"2-digit\", begin=6, end=8),\n",
    "    Annotation(state=\"3-digit\", begin=10, end=10),\n",
    "    Annotation(state=\"2-digit\", begin=11, end=12)\n",
    "]\n",
    "a_traj = AnnotatedTrajectory(trajectory=traj, annotations=annotations)"
   ]
  },
  {
   "cell_type": "markdown",
   "metadata": {},
   "source": [
    "Note that I worry more about incorrectly identifying something as in the state when it actually is not, than missing any frame that could be in the state. There's always some room for optimization here, but you should err on the side of ensuring that your labels actually identify that state. Allow false negatives; don't allow false positives."
   ]
  },
  {
   "cell_type": "markdown",
   "metadata": {
    "collapsed": false
   },
   "source": [
    "Next, you save the trajectory to the file using the `tag` attribute of the `storage`. This will save both the trajectory and all its annotations to the file.\n",
    "\n",
    "In the future, we hope to avoid use of the `tag` store. However, for now I recommend using something like the file name of the trajectory as the string for the tag. It must be unique."
   ]
  },
  {
   "cell_type": "code",
   "execution_count": 6,
   "metadata": {
    "collapsed": false
   },
   "outputs": [],
   "source": [
    "storage.tag['my_file_name'] = a_traj"
   ]
  },
  {
   "cell_type": "markdown",
   "metadata": {},
   "source": [
    "Repeat the steps in the last two cells for each trajectory. When you're done, you can run:"
   ]
  },
  {
   "cell_type": "code",
   "execution_count": 7,
   "metadata": {
    "collapsed": true
   },
   "outputs": [],
   "source": [
    "storage.sync()\n",
    "storage.close()"
   ]
  },
  {
   "cell_type": "markdown",
   "metadata": {},
   "source": [
    "## Plotting annotations"
   ]
  },
  {
   "cell_type": "code",
   "execution_count": 8,
   "metadata": {
    "collapsed": true
   },
   "outputs": [],
   "source": [
    "%matplotlib inline\n",
    "import matplotlib.pyplot as plt"
   ]
  },
  {
   "cell_type": "code",
   "execution_count": 9,
   "metadata": {
    "collapsed": true
   },
   "outputs": [],
   "source": [
    "def ln_x(snapshot):\n",
    "    import math\n",
    "    return math.log10(abs(snapshot.xyz[0][0]))\n",
    "\n",
    "cv = paths.CoordinateFunctionCV(\"log(x)\", ln_x)"
   ]
  },
  {
   "cell_type": "code",
   "execution_count": 10,
   "metadata": {
    "collapsed": true
   },
   "outputs": [],
   "source": [
    "state_1 = paths.CVDefinedVolume(cv, 0.0, 1.0)\n",
    "state_2 = paths.CVDefinedVolume(cv, 1.0, 2.0)\n",
    "state_3 = paths.CVDefinedVolume(cv, 2.0, 3.0)"
   ]
  },
  {
   "cell_type": "code",
   "execution_count": 11,
   "metadata": {
    "collapsed": true
   },
   "outputs": [],
   "source": [
    "names_to_states = {\n",
    "    '1-digit': state_1,\n",
    "    '2-digit': state_2,\n",
    "    '3-digit': state_3,    \n",
    "}\n",
    "names_to_colors = {\n",
    "    '1-digit': 'b',\n",
    "    '2-digit': 'c',\n",
    "    '3-digit': 'r'\n",
    "}"
   ]
  },
  {
   "cell_type": "code",
   "execution_count": 12,
   "metadata": {
    "collapsed": false
   },
   "outputs": [
    {
     "data": {
      "text/plain": [
       "(-0.1, 2.5)"
      ]
     },
     "execution_count": 12,
     "metadata": {},
     "output_type": "execute_result"
    },
    {
     "data": {
      "image/png": "[encoded data removed]",
      "text/plain": [
       "<matplotlib.figure.Figure at 0x106758090>"
      ]
     },
     "metadata": {},
     "output_type": "display_data"
    }
   ],
   "source": [
    "plot_annotated(a_traj, cv, names_to_states, names_to_colors, dt=0.1)\n",
    "plt.xlim(xmax=1.5)\n",
    "plt.ylim(ymin=-0.1)"
   ]
  },
  {
   "cell_type": "markdown",
   "metadata": {},
   "source": [
    "## Checking for conflicts\n",
    "\n",
    "Now I'm going to label one of my frames in a way that conflicts with my state definition. This means I'll have a false positive: the state definition says this is in the state when the annotation says it isn't (and specifically, when the annotation says it is in a different state).\n",
    "\n",
    "Note that this still isn't a sufficient check: a more complicated test would ensure that, if the state gives a false positive where there is *no* annotation, that one of the nearest annotations (forward or backward) is of the same state. This has not been implemented yet, but might be added in the future."
   ]
  },
  {
   "cell_type": "code",
   "execution_count": 13,
   "metadata": {
    "collapsed": true
   },
   "outputs": [],
   "source": [
    "# only difference is that I claim frame 5 (x=11) is in the 1-digit state\n",
    "bad_annotations = [\n",
    "    Annotation(state=\"1-digit\", begin=1, end=5),\n",
    "    Annotation(state=\"2-digit\", begin=6, end=8),\n",
    "    Annotation(state=\"3-digit\", begin=10, end=10),\n",
    "    Annotation(state=\"2-digit\", begin=11, end=12)\n",
    "]\n",
    "bad_traj = AnnotatedTrajectory(traj, bad_annotations)"
   ]
  },
  {
   "cell_type": "code",
   "execution_count": 14,
   "metadata": {
    "collapsed": false
   },
   "outputs": [
    {
     "data": {
      "text/plain": [
       "(-0.1, 2.5)"
      ]
     },
     "execution_count": 14,
     "metadata": {},
     "output_type": "execute_result"
    },
    {
     "data": {
      "image/png": "[encoded data removed]",
      "text/plain": [
       "<matplotlib.figure.Figure at 0x10e9cef50>"
      ]
     },
     "metadata": {},
     "output_type": "display_data"
    }
   ],
   "source": [
    "plot_annotated(bad_traj, cv, names_to_states, names_to_colors, dt=0.1)\n",
    "plt.xlim(xmax=1.5)\n",
    "plt.ylim(ymin=-0.1)"
   ]
  },
  {
   "cell_type": "markdown",
   "metadata": {},
   "source": [
    "Note how the value at $t=0.5$ conflicts: the annotation (the line) says that this this is in the blue (1-digit) state, whereas the state definition (the points) says that this is in the can (2-digit) state."
   ]
  },
  {
   "cell_type": "code",
   "execution_count": 15,
   "metadata": {
    "collapsed": true
   },
   "outputs": [],
   "source": [
    "(results, conflicts) = bad_traj.validate_states(names_to_states)"
   ]
  },
  {
   "cell_type": "markdown",
   "metadata": {},
   "source": [
    "The results object will count something as a false postive if the state identifies it, but the annotation doesn't. Not all false positives are bad: if the state identified by the annotation is smaller than the state definition, then the state definition will catch some frames that the annotation left marked as not in any state.\n",
    "\n",
    "It will count something as a false negative if the annotation identifies it, but the state doesn't. Not all false negatives are bad: this merely indicates that the state definitions may claim a frame is in no state, even though the annotation says it is in a state. In fact, we typically want this: a reasonable number of false negatives is necessary for your state to a have a decent flux in TIS."
   ]
  },
  {
   "cell_type": "code",
   "execution_count": 16,
   "metadata": {
    "collapsed": false
   },
   "outputs": [
    {
     "name": "stdout",
     "output_type": "stream",
     "text": [
      "Correct: 4\n",
      "False positive: 1\n",
      "False negative: 1\n"
     ]
    }
   ],
   "source": [
    "print results['1-digit']"
   ]
  },
  {
   "cell_type": "code",
   "execution_count": 17,
   "metadata": {
    "collapsed": false
   },
   "outputs": [
    {
     "name": "stdout",
     "output_type": "stream",
     "text": [
      "Correct: 5\n",
      "False positive: 1\n",
      "False negative: 0\n"
     ]
    }
   ],
   "source": [
    "print results['2-digit']"
   ]
  },
  {
   "cell_type": "code",
   "execution_count": 18,
   "metadata": {
    "collapsed": false
   },
   "outputs": [
    {
     "name": "stdout",
     "output_type": "stream",
     "text": [
      "Correct: 1\n",
      "False positive: 1\n",
      "False negative: 0\n"
     ]
    }
   ],
   "source": [
    "print results['3-digit']"
   ]
  },
  {
   "cell_type": "code",
   "execution_count": 19,
   "metadata": {
    "collapsed": false
   },
   "outputs": [
    {
     "name": "stdout",
     "output_type": "stream",
     "text": [
      "5\n"
     ]
    }
   ],
   "source": [
    "print bad_traj.trajectory.index(results['1-digit'].false_negative[0])"
   ]
  },
  {
   "cell_type": "markdown",
   "metadata": {},
   "source": [
    "While false positives and false negatives are not inherently bad, conflicts are. A frame is said to be in conflict if the state definition assigns a different state than the annotation. The `conflicts` dictionary tells which frame numbers are in conflict, organized by which state definition volume they are in."
   ]
  },
  {
   "cell_type": "code",
   "execution_count": 20,
   "metadata": {
    "collapsed": false
   },
   "outputs": [
    {
     "name": "stdout",
     "output_type": "stream",
     "text": [
      "{'2-digit': [5], '1-digit': [], '3-digit': []}\n"
     ]
    }
   ],
   "source": [
    "print conflicts"
   ]
  },
  {
   "cell_type": "markdown",
   "metadata": {},
   "source": [
    "You can identify which state the annotations claim using `get_label_for_frame`:"
   ]
  },
  {
   "cell_type": "code",
   "execution_count": 21,
   "metadata": {
    "collapsed": false
   },
   "outputs": [
    {
     "data": {
      "text/plain": [
       "'1-digit'"
      ]
     },
     "execution_count": 21,
     "metadata": {},
     "output_type": "execute_result"
    }
   ],
   "source": [
    "bad_traj.get_label_for_frame(5)"
   ]
  }
 ],
 "metadata": {
  "kernelspec": {
   "display_name": "Python 2",
   "language": "python",
   "name": "python2"
  },
  "language_info": {
   "codemirror_mode": {
    "name": "ipython",
    "version": 2
   },
   "file_extension": ".py",
   "mimetype": "text/x-python",
   "name": "python",
   "nbconvert_exporter": "python",
   "pygments_lexer": "ipython2",
   "version": "2.7.12"
  }
 },
 "nbformat": 4,
 "nbformat_minor": 1
}
